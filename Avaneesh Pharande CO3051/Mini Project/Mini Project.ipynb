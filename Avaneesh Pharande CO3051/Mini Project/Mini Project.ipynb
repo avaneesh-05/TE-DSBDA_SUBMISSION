{
 "cells": [
  {
   "cell_type": "markdown",
   "id": "d0dea113-8e34-49c8-a456-f7a84800f23f",
   "metadata": {},
   "source": [
    "# Import the required library"
   ]
  },
  {
   "cell_type": "code",
   "execution_count": 1,
   "id": "8ef58af9-7f7a-41bf-ba05-29deff1cf56c",
   "metadata": {},
   "outputs": [],
   "source": [
    "import pandas as pd\n",
    "import matplotlib.pyplot as plt"
   ]
  },
  {
   "cell_type": "markdown",
   "id": "57102e9a-f4e0-4fc1-9c91-7fbc38056731",
   "metadata": {},
   "source": [
    "# Load the dataset"
   ]
  },
  {
   "cell_type": "code",
   "execution_count": 2,
   "id": "aca111f6-1ca8-40ca-8fdc-a879d37f8d25",
   "metadata": {},
   "outputs": [],
   "source": [
    "df=pd.read_csv(\"StatewiseTestingDetails.csv\")"
   ]
  },
  {
   "cell_type": "markdown",
   "id": "a5ebd68d-48a6-44ed-bf96-06e3acf422ab",
   "metadata": {},
   "source": [
    "# Display basic information about the dataset"
   ]
  },
  {
   "cell_type": "code",
   "execution_count": 3,
   "id": "f7e08ab4-b397-452f-bdfb-6874f03aae6c",
   "metadata": {},
   "outputs": [
    {
     "name": "stdout",
     "output_type": "stream",
     "text": [
      "Dataset Info:\n",
      "<class 'pandas.core.frame.DataFrame'>\n",
      "RangeIndex: 16336 entries, 0 to 16335\n",
      "Data columns (total 5 columns):\n",
      " #   Column        Non-Null Count  Dtype  \n",
      "---  ------        --------------  -----  \n",
      " 0   Date          16336 non-null  object \n",
      " 1   State         16336 non-null  object \n",
      " 2   TotalSamples  16336 non-null  float64\n",
      " 3   Negative      6969 non-null   object \n",
      " 4   Positive      5662 non-null   float64\n",
      "dtypes: float64(2), object(3)\n",
      "memory usage: 638.2+ KB\n"
     ]
    }
   ],
   "source": [
    "print(\"Dataset Info:\")\n",
    "df.info()"
   ]
  },
  {
   "cell_type": "markdown",
   "id": "df4f1b8b-b568-4250-b780-88dc3044df8c",
   "metadata": {},
   "source": [
    "# Display the first few rows of the dataset"
   ]
  },
  {
   "cell_type": "code",
   "execution_count": 4,
   "id": "27d7336e-3c94-4945-b3cb-005d56f789af",
   "metadata": {},
   "outputs": [
    {
     "name": "stdout",
     "output_type": "stream",
     "text": [
      "\n",
      "First 5 Rows:\n",
      "         Date                        State  TotalSamples Negative  Positive\n",
      "0  2020-04-17  Andaman and Nicobar Islands        1403.0     1210      12.0\n",
      "1  2020-04-24  Andaman and Nicobar Islands        2679.0      NaN      27.0\n",
      "2  2020-04-27  Andaman and Nicobar Islands        2848.0      NaN      33.0\n",
      "3  2020-05-01  Andaman and Nicobar Islands        3754.0      NaN      33.0\n",
      "4  2020-05-16  Andaman and Nicobar Islands        6677.0      NaN      33.0\n"
     ]
    }
   ],
   "source": [
    "print(\"\\nFirst 5 Rows:\")\n",
    "print(df.head())"
   ]
  },
  {
   "cell_type": "markdown",
   "id": "7464043a-bf00-4f8e-bc87-52fa08be236b",
   "metadata": {},
   "source": [
    "# a. Describe the dataset"
   ]
  },
  {
   "cell_type": "code",
   "execution_count": 5,
   "id": "b4919729-b03f-47c7-965b-e2b634c10c0b",
   "metadata": {},
   "outputs": [
    {
     "name": "stdout",
     "output_type": "stream",
     "text": [
      "\n",
      "Descriptive Statistics:\n",
      "              Date   State  TotalSamples Negative      Positive\n",
      "count        16336   16336  1.633600e+04     6969  5.662000e+03\n",
      "unique         497      36           NaN     6898           NaN\n",
      "top     2021-08-09  Kerala           NaN    26000           NaN\n",
      "freq            35     497           NaN        3           NaN\n",
      "mean           NaN     NaN  5.376466e+06      NaN  5.652654e+04\n",
      "std            NaN     NaN  8.780338e+06      NaN  1.673108e+05\n",
      "min            NaN     NaN  5.800000e+01      NaN  0.000000e+00\n",
      "25%            NaN     NaN  1.729098e+05      NaN  5.362500e+02\n",
      "50%            NaN     NaN  9.307580e+05      NaN  4.771000e+03\n",
      "75%            NaN     NaN  7.284795e+06      NaN  3.361875e+04\n",
      "max            NaN     NaN  6.789786e+07      NaN  1.638961e+06\n"
     ]
    }
   ],
   "source": [
    "print(\"\\nDescriptive Statistics:\")\n",
    "print(df.describe(include='all'))"
   ]
  },
  {
   "cell_type": "markdown",
   "id": "6742da52-6619-4031-9e2d-9cc8130151e2",
   "metadata": {},
   "source": [
    "# b. Number of persons state-wise vaccinated for first dose in India"
   ]
  },
  {
   "cell_type": "code",
   "execution_count": 6,
   "id": "6faf125a-b787-47b5-b499-9f61b5c2e406",
   "metadata": {},
   "outputs": [
    {
     "name": "stdout",
     "output_type": "stream",
     "text": [
      "\n",
      "Total samples tested per state:\n",
      "State\n",
      "Uttar Pradesh                               1.138818e+10\n",
      "Bihar                                       7.392796e+09\n",
      "Maharashtra                                 7.334574e+09\n",
      "Karnataka                                   6.773248e+09\n",
      "Tamil Nadu                                  6.711189e+09\n",
      "Andhra Pradesh                              4.967773e+09\n",
      "Gujarat                                     4.623914e+09\n",
      "Delhi                                       4.310596e+09\n",
      "Kerala                                      4.269006e+09\n",
      "Telangana                                   3.422977e+09\n",
      "West Bengal                                 3.051636e+09\n",
      "Odisha                                      2.965651e+09\n",
      "Assam                                       2.853509e+09\n",
      "Rajasthan                                   2.520540e+09\n",
      "Madhya Pradesh                              2.298458e+09\n",
      "Haryana                                     2.056736e+09\n",
      "Jharkhand                                   2.053512e+09\n",
      "Punjab                                      2.026576e+09\n",
      "Jammu and Kashmir                           1.960284e+09\n",
      "Chhattisgarh                                1.863129e+09\n",
      "Uttarakhand                                 9.792698e+08\n",
      "Himachal Pradesh                            4.271429e+08\n",
      "Tripura                                     2.467333e+08\n",
      "Puducherry                                  2.383986e+08\n",
      "Goa                                         1.979067e+08\n",
      "Manipur                                     1.855130e+08\n",
      "Arunachal Pradesh                           1.636096e+08\n",
      "Meghalaya                                   1.251595e+08\n",
      "Chandigarh                                  9.974705e+07\n",
      "Andaman and Nicobar Islands                 8.747008e+07\n",
      "Mizoram                                     8.460259e+07\n",
      "Nagaland                                    5.183817e+07\n",
      "Ladakh                                      4.213546e+07\n",
      "Sikkim                                      2.979406e+07\n",
      "Lakshadweep                                 2.001715e+07\n",
      "Dadra and Nagar Haveli and Daman and Diu    6.324267e+06\n",
      "Name: TotalSamples, dtype: float64\n"
     ]
    }
   ],
   "source": [
    "total_samples = df.groupby('State')['TotalSamples'].sum().sort_values(ascending=False)\n",
    "print(\"\\nTotal samples tested per state:\")\n",
    "print(total_samples)"
   ]
  },
  {
   "cell_type": "markdown",
   "id": "7db8a8d3-8d1e-4bf7-91c5-73f4fda2c623",
   "metadata": {},
   "source": [
    "# c. Latest testing numbers for each state"
   ]
  },
  {
   "cell_type": "code",
   "execution_count": 7,
   "id": "cc84340a-b9a7-4ed4-a4e8-cdfa843a49ab",
   "metadata": {},
   "outputs": [
    {
     "name": "stdout",
     "output_type": "stream",
     "text": [
      "\n",
      "Latest testing numbers (by state):\n",
      "                                          TotalSamples  Negative   Positive\n",
      "State                                                                      \n",
      "Andaman and Nicobar Islands                   452587.0      1210     7516.0\n",
      "Andhra Pradesh                              25311733.0  23326551   235525.0\n",
      "Arunachal Pradesh                             986281.0    716897     2658.0\n",
      "Assam                                       19850867.0    177989    87908.0\n",
      "Bihar                                       38820518.0      2299    90553.0\n",
      "Chandigarh                                    629060.0    565758     2305.0\n",
      "Chhattisgarh                                11762041.0    132332    19459.0\n",
      "Dadra and Nagar Haveli and Daman and Diu       72410.0     68894     3194.0\n",
      "Delhi                                       24333906.0     39920   151928.0\n",
      "Goa                                          1102474.0    115434     1348.0\n",
      "Gujarat                                     26192626.0   2818481   136004.0\n",
      "Haryana                                     11135555.0   5588403   275137.0\n",
      "Himachal Pradesh                             2961627.0   2752249     3993.0\n",
      "Jammu and Kashmir                           12307566.0  11984795    31371.0\n",
      "Jharkhand                                   12184347.0  11836897   346824.0\n",
      "Karnataka                                   40104915.0   1002045   264546.0\n",
      "Kerala                                      28745545.0    134743   932639.0\n",
      "Ladakh                                        454086.0    349101     4720.0\n",
      "Lakshadweep                                   226724.0      None        NaN\n",
      "Madhya Pradesh                              15144644.0   8261873   791732.0\n",
      "Maharashtra                                 49905065.0   6641718  1638961.0\n",
      "Manipur                                      1136573.0      None     4765.0\n",
      "Meghalaya                                     894820.0    825051     1718.0\n",
      "Mizoram                                       688280.0         0      713.0\n",
      "Nagaland                                      280777.0               3558.0\n",
      "Odisha                                      16683764.0      9629    97920.0\n",
      "Puducherry                                   1557320.0   1326325    44037.0\n",
      "Punjab                                      12475529.0     67325   124535.0\n",
      "Rajasthan                                   13185136.0   4866322    67954.0\n",
      "Sikkim                                        213375.0     25310      910.0\n",
      "Tamil Nadu                                  39002757.0   1080516   367430.0\n",
      "Telangana                                   22991849.0    169324   124963.0\n",
      "Tripura                                      1630572.0   1550159    80413.0\n",
      "Uttar Pradesh                               67897856.0   5215205   126722.0\n",
      "Uttarakhand                                  6526861.0   6184399       65.0\n",
      "West Bengal                                 16162814.0       568   135596.0\n"
     ]
    }
   ],
   "source": [
    "latest_data = df.sort_values('Date').groupby('State').last()\n",
    "print(\"\\nLatest testing numbers (by state):\")\n",
    "print(latest_data[['TotalSamples', 'Negative', 'Positive']])"
   ]
  },
  {
   "cell_type": "markdown",
   "id": "28ef0d24-0dfc-4cbd-a39d-3fca5c227934",
   "metadata": {},
   "source": [
    "# d. Plot top 10 states by total samples tested"
   ]
  },
  {
   "cell_type": "code",
   "execution_count": 8,
   "id": "b2b202c4-1029-4380-8684-0cd3fd154041",
   "metadata": {},
   "outputs": [
    {
     "data": {
      "image/png": "[encoded data removed]",
      "text/plain": [
       "<Figure size 1000x500 with 1 Axes>"
      ]
     },
     "metadata": {},
     "output_type": "display_data"
    }
   ],
   "source": [
    "total_samples.head(10).plot(kind='bar', figsize=(10,5), color='green')\n",
    "plt.title(\"Top 10 States by Total COVID Samples Tested\")\n",
    "plt.xlabel(\"State\")\n",
    "plt.ylabel(\"Total Samples\")\n",
    "plt.xticks(rotation=45)\n",
    "plt.tight_layout()\n",
    "plt.show()"
   ]
  },
  {
   "cell_type": "code",
   "execution_count": null,
   "id": "1075df61-70a1-4582-8e76-f3ff7b2f98c2",
   "metadata": {},
   "outputs": [],
   "source": []
  }
 ],
 "metadata": {
  "kernelspec": {
   "display_name": "Python 3",
   "language": "python",
   "name": "python3"
  },
  "language_info": {
   "codemirror_mode": {
    "name": "ipython",
    "version": 3
   },
   "file_extension": ".py",
   "mimetype": "text/x-python",
   "name": "python",
   "nbconvert_exporter": "python",
   "pygments_lexer": "ipython3",
   "version": "3.10.12"
  }
 },
 "nbformat": 4,
 "nbformat_minor": 5
}
