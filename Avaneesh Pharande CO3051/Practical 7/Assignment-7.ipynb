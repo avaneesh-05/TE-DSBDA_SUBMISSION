{
 "cells": [
  {
   "cell_type": "markdown",
   "id": "08489e06-688d-4ec1-a3fd-eb7fbdcc7ac5",
   "metadata": {},
   "source": [
    "# Install the required library"
   ]
  },
  {
   "cell_type": "code",
   "execution_count": 62,
   "id": "d0b55f9c-78f9-40b9-a43d-2e206074268c",
   "metadata": {},
   "outputs": [
    {
     "name": "stdout",
     "output_type": "stream",
     "text": [
      "Requirement already satisfied: nltk in c:\\users\\vinod\\anaconda3\\lib\\site-packages (3.9.1)\n",
      "Requirement already satisfied: scikit-learn in c:\\users\\vinod\\anaconda3\\lib\\site-packages (1.5.1)\n",
      "Requirement already satisfied: click in c:\\users\\vinod\\anaconda3\\lib\\site-packages (from nltk) (8.1.7)\n",
      "Requirement already satisfied: joblib in c:\\users\\vinod\\anaconda3\\lib\\site-packages (from nltk) (1.4.2)\n",
      "Requirement already satisfied: regex>=2021.8.3 in c:\\users\\vinod\\anaconda3\\lib\\site-packages (from nltk) (2024.9.11)\n",
      "Requirement already satisfied: tqdm in c:\\users\\vinod\\anaconda3\\lib\\site-packages (from nltk) (4.66.5)\n",
      "Requirement already satisfied: numpy>=1.19.5 in c:\\users\\vinod\\anaconda3\\lib\\site-packages (from scikit-learn) (1.26.4)\n",
      "Requirement already satisfied: scipy>=1.6.0 in c:\\users\\vinod\\anaconda3\\lib\\site-packages (from scikit-learn) (1.13.1)\n",
      "Requirement already satisfied: threadpoolctl>=3.1.0 in c:\\users\\vinod\\anaconda3\\lib\\site-packages (from scikit-learn) (3.5.0)\n",
      "Requirement already satisfied: colorama in c:\\users\\vinod\\anaconda3\\lib\\site-packages (from click->nltk) (0.4.6)\n"
     ]
    }
   ],
   "source": [
    "!pip install nltk scikit-learn\n"
   ]
  },
  {
   "cell_type": "markdown",
   "id": "0693a9ee-9911-40e2-9bc0-b0aa45382125",
   "metadata": {},
   "source": [
    "# Import the required library"
   ]
  },
  {
   "cell_type": "code",
   "execution_count": 33,
   "id": "15329769-c965-4abd-8697-b749e710c88a",
   "metadata": {},
   "outputs": [],
   "source": [
    "import nltk\n",
    "from nltk.tokenize import word_tokenize\n",
    "from nltk.corpus import stopwords\n",
    "from nltk.stem import PorterStemmer, WordNetLemmatizer\n",
    "from nltk import pos_tag"
   ]
  },
  {
   "cell_type": "markdown",
   "id": "16b2909c-4794-4015-916a-31dcb1338083",
   "metadata": {},
   "source": [
    "# Download the required resources"
   ]
  },
  {
   "cell_type": "code",
   "execution_count": 34,
   "id": "8f878562-6a21-49c9-9809-73d7f99492ad",
   "metadata": {},
   "outputs": [
    {
     "name": "stderr",
     "output_type": "stream",
     "text": [
      "[nltk_data] Downloading package punkt to\n",
      "[nltk_data]     C:\\Users\\vinod\\AppData\\Roaming\\nltk_data...\n",
      "[nltk_data]   Package punkt is already up-to-date!\n",
      "[nltk_data] Downloading package stopwords to\n",
      "[nltk_data]     C:\\Users\\vinod\\AppData\\Roaming\\nltk_data...\n",
      "[nltk_data]   Package stopwords is already up-to-date!\n",
      "[nltk_data] Downloading package averaged_perceptron_tagger to\n",
      "[nltk_data]     C:\\Users\\vinod\\AppData\\Roaming\\nltk_data...\n",
      "[nltk_data]   Package averaged_perceptron_tagger is already up-to-\n",
      "[nltk_data]       date!\n",
      "[nltk_data] Downloading package wordnet to\n",
      "[nltk_data]     C:\\Users\\vinod\\AppData\\Roaming\\nltk_data...\n",
      "[nltk_data]   Package wordnet is already up-to-date!\n"
     ]
    },
    {
     "data": {
      "text/plain": [
       "True"
      ]
     },
     "execution_count": 34,
     "metadata": {},
     "output_type": "execute_result"
    }
   ],
   "source": [
    "nltk.download('punkt')\n",
    "nltk.download('stopwords')\n",
    "nltk.download('averaged_perceptron_tagger')\n",
    "nltk.download('wordnet')\n"
   ]
  },
  {
   "cell_type": "markdown",
   "id": "cf1d84a5-dd78-4166-8981-21a8be4010e4",
   "metadata": {},
   "source": [
    "# Sample document"
   ]
  },
  {
   "cell_type": "code",
   "execution_count": 35,
   "id": "24932804-0761-420f-af4c-17ba24fb7c59",
   "metadata": {},
   "outputs": [],
   "source": [
    "text = \"Text analytics is the process of converting unstructured text data into meaningful insights.\""
   ]
  },
  {
   "cell_type": "markdown",
   "id": "98209f1a-b13e-4d47-a26b-558456964928",
   "metadata": {},
   "source": [
    "# Tokenization"
   ]
  },
  {
   "cell_type": "code",
   "execution_count": 70,
   "id": "11b0a569-23f2-4252-a195-fffcc666cd23",
   "metadata": {},
   "outputs": [
    {
     "name": "stdout",
     "output_type": "stream",
     "text": [
      "Tokens: ['Text', 'analytics', 'is', 'the', 'process', 'of', 'converting', 'unstructured', 'text', 'data', 'into', 'meaningful', 'insights', '.']\n"
     ]
    }
   ],
   "source": [
    "tokens = word_tokenize(text)\n",
    "print(\"Tokens:\", tokens)"
   ]
  },
  {
   "cell_type": "markdown",
   "id": "00faa3ff-7b85-462d-ba77-565cc1382648",
   "metadata": {},
   "source": [
    "# POS tagging"
   ]
  },
  {
   "cell_type": "code",
   "execution_count": 37,
   "id": "acc9e6c3-8b99-4ad7-b479-c362d2634c92",
   "metadata": {},
   "outputs": [
    {
     "name": "stdout",
     "output_type": "stream",
     "text": [
      "POS Tags: [('Text', 'NN'), ('analytics', 'NNS'), ('is', 'VBZ'), ('the', 'DT'), ('process', 'NN'), ('of', 'IN'), ('converting', 'VBG'), ('unstructured', 'JJ'), ('text', 'NN'), ('data', 'NNS'), ('into', 'IN'), ('meaningful', 'JJ'), ('insights', 'NNS'), ('.', '.')]\n"
     ]
    }
   ],
   "source": [
    "pos_tags = pos_tag(tokens)\n",
    "print(\"POS Tags:\", pos_tags)"
   ]
  },
  {
   "cell_type": "markdown",
   "id": "78230977-1205-48cc-9901-fa4d85052f01",
   "metadata": {},
   "source": [
    "# Stop word Removal"
   ]
  },
  {
   "cell_type": "code",
   "execution_count": 38,
   "id": "363f1cd1-cb50-460b-96fb-5b27de52190c",
   "metadata": {},
   "outputs": [
    {
     "name": "stdout",
     "output_type": "stream",
     "text": [
      "Filtered Tokens: ['Text', 'analytics', 'process', 'converting', 'unstructured', 'text', 'data', 'meaningful', 'insights', '.']\n"
     ]
    }
   ],
   "source": [
    "stop_words = set(stopwords.words('english'))\n",
    "filtered_tokens = [word for word in tokens if word.lower() not in stop_words]\n",
    "print(\"Filtered Tokens:\", filtered_tokens)"
   ]
  },
  {
   "cell_type": "markdown",
   "id": "6e9ef65e-8be1-4106-956c-77c80b7485b7",
   "metadata": {},
   "source": [
    "# Stemming"
   ]
  },
  {
   "cell_type": "code",
   "execution_count": 39,
   "id": "aa623105-875b-45cf-b7ec-6feb2ec54cb7",
   "metadata": {},
   "outputs": [
    {
     "name": "stdout",
     "output_type": "stream",
     "text": [
      "Stemmed Words: ['text', 'analyt', 'process', 'convert', 'unstructur', 'text', 'data', 'meaning', 'insight', '.']\n"
     ]
    }
   ],
   "source": [
    "stemmer = PorterStemmer()\n",
    "stemmed = [stemmer.stem(word) for word in filtered_tokens]\n",
    "print(\"Stemmed Words:\", stemmed)"
   ]
  },
  {
   "cell_type": "markdown",
   "id": "ac4db563-4cc4-43ff-b1c1-6cf01e7a63a5",
   "metadata": {},
   "source": [
    "# Lemmatization"
   ]
  },
  {
   "cell_type": "code",
   "execution_count": 40,
   "id": "710d5b27-b67e-4055-96cb-c32d5e0cb688",
   "metadata": {},
   "outputs": [
    {
     "name": "stdout",
     "output_type": "stream",
     "text": [
      "Lemmatized Words: ['Text', 'analytics', 'process', 'converting', 'unstructured', 'text', 'data', 'meaningful', 'insight', '.']\n"
     ]
    }
   ],
   "source": [
    "lemmatizer = WordNetLemmatizer()\n",
    "lemmatized = [lemmatizer.lemmatize(word) for word in filtered_tokens]\n",
    "print(\"Lemmatized Words:\", lemmatized)"
   ]
  },
  {
   "cell_type": "markdown",
   "id": "462dab4c-72aa-41b9-90da-69c24eaca0d5",
   "metadata": {},
   "source": [
    "# TF-IDF Calculation"
   ]
  },
  {
   "cell_type": "code",
   "execution_count": 41,
   "id": "b89084f1-cae7-4758-9c1e-aa1c818885b7",
   "metadata": {},
   "outputs": [],
   "source": [
    "from sklearn.feature_extraction.text import TfidfVectorizer"
   ]
  },
  {
   "cell_type": "code",
   "execution_count": 42,
   "id": "5bb758a1-e52c-44a7-b809-1bb4aaa3fa84",
   "metadata": {},
   "outputs": [],
   "source": [
    "corpus = [\n",
    "    \"Text analytics is the process of converting unstructured text data into meaningful insights.\",\n",
    "    \"Data analytics helps in business decisions.\",\n",
    "    \"Natural language processing is a part of text analytics.\"\n",
    "]"
   ]
  },
  {
   "cell_type": "code",
   "execution_count": 43,
   "id": "b9e5112d-924f-45c1-92f5-2ef1a96738fb",
   "metadata": {},
   "outputs": [],
   "source": [
    "vectorizer = TfidfVectorizer()\n",
    "X = vectorizer.fit_transform(corpus)"
   ]
  },
  {
   "cell_type": "code",
   "execution_count": 44,
   "id": "d3af1b4f-3c73-47f6-9c23-a0d1fcfe8a69",
   "metadata": {},
   "outputs": [],
   "source": [
    "import pandas as pd"
   ]
  },
  {
   "cell_type": "code",
   "execution_count": 45,
   "id": "f4075223-8e9d-4983-9594-ef86a8c0dadf",
   "metadata": {},
   "outputs": [
    {
     "name": "stdout",
     "output_type": "stream",
     "text": [
      "   analytics  business  converting      data  decisions     helps        in  \\\n",
      "0   0.174944  0.000000    0.296205  0.225272   0.000000  0.000000  0.000000   \n",
      "1   0.266075  0.450504    0.000000  0.342620   0.450504  0.450504  0.450504   \n",
      "2   0.239447  0.000000    0.000000  0.000000   0.000000  0.000000  0.000000   \n",
      "\n",
      "   insights      into        is  language  meaningful   natural        of  \\\n",
      "0  0.296205  0.296205  0.225272  0.000000    0.296205  0.000000  0.225272   \n",
      "1  0.000000  0.000000  0.000000  0.000000    0.000000  0.000000  0.000000   \n",
      "2  0.000000  0.000000  0.308332  0.405419    0.000000  0.405419  0.308332   \n",
      "\n",
      "       part   process  processing      text       the  unstructured  \n",
      "0  0.000000  0.296205    0.000000  0.450544  0.296205      0.296205  \n",
      "1  0.000000  0.000000    0.000000  0.000000  0.000000      0.000000  \n",
      "2  0.405419  0.000000    0.405419  0.308332  0.000000      0.000000  \n"
     ]
    }
   ],
   "source": [
    "df_tfidf = pd.DataFrame(X.toarray(), columns=vectorizer.get_feature_names_out())\n",
    "print(df_tfidf)"
   ]
  },
  {
   "cell_type": "code",
   "execution_count": null,
   "id": "48951ca8-e19c-499f-b117-e67ddf80c1f6",
   "metadata": {},
   "outputs": [],
   "source": []
  }
 ],
 "metadata": {
  "kernelspec": {
   "display_name": "Python [conda env:base] *",
   "language": "python",
   "name": "conda-base-py"
  },
  "language_info": {
   "codemirror_mode": {
    "name": "ipython",
    "version": 3
   },
   "file_extension": ".py",
   "mimetype": "text/x-python",
   "name": "python",
   "nbconvert_exporter": "python",
   "pygments_lexer": "ipython3",
   "version": "3.12.7"
  }
 },
 "nbformat": 4,
 "nbformat_minor": 5
}
